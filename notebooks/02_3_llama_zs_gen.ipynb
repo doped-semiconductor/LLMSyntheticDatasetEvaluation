{
 "cells": [
  {
   "cell_type": "markdown",
   "metadata": {
    "_cell_guid": "b1076dfc-b9ad-4769-8c92-a6c4dae69d19",
    "_uuid": "8f2839f25d086af736a60e9eeb907d3b93b6e0e5"
   },
   "source": [
    "# LLama3"
   ]
  },
  {
   "cell_type": "code",
   "execution_count": 1,
   "metadata": {
    "execution": {
     "iopub.execute_input": "2024-11-12T14:26:44.970341Z",
     "iopub.status.busy": "2024-11-12T14:26:44.969117Z",
     "iopub.status.idle": "2024-11-12T14:26:47.203750Z",
     "shell.execute_reply": "2024-11-12T14:26:47.202827Z",
     "shell.execute_reply.started": "2024-11-12T14:26:44.970273Z"
    },
    "trusted": true
   },
   "outputs": [
    {
     "data": {
      "application/vnd.jupyter.widget-view+json": {
       "model_id": "e7a361acce7743cc8c9990606476dd75",
       "version_major": 2,
       "version_minor": 0
      },
      "text/plain": [
       "VBox(children=(HTML(value='<center> <img\\nsrc=https://huggingface.co/front/assets/huggingface_logo-noborder.sv…"
      ]
     },
     "metadata": {},
     "output_type": "display_data"
    }
   ],
   "source": [
    "import pandas as pd\n",
    "from huggingface_hub import login\n",
    "login()\n"
   ]
  },
  {
   "cell_type": "code",
   "execution_count": 2,
   "metadata": {
    "execution": {
     "iopub.execute_input": "2024-11-12T14:27:06.264871Z",
     "iopub.status.busy": "2024-11-12T14:27:06.263927Z",
     "iopub.status.idle": "2024-11-12T14:34:44.532104Z",
     "shell.execute_reply": "2024-11-12T14:34:44.530992Z",
     "shell.execute_reply.started": "2024-11-12T14:27:06.264824Z"
    },
    "trusted": true
   },
   "outputs": [
    {
     "name": "stdout",
     "output_type": "stream",
     "text": [
      "cuda\n"
     ]
    },
    {
     "data": {
      "application/vnd.jupyter.widget-view+json": {
       "model_id": "a7f54fa7b140478bad3b6704f6975d8b",
       "version_major": 2,
       "version_minor": 0
      },
      "text/plain": [
       "tokenizer_config.json:   0%|          | 0.00/51.0k [00:00<?, ?B/s]"
      ]
     },
     "metadata": {},
     "output_type": "display_data"
    },
    {
     "data": {
      "application/vnd.jupyter.widget-view+json": {
       "model_id": "035040a3909846a68ba65a9c10fcc887",
       "version_major": 2,
       "version_minor": 0
      },
      "text/plain": [
       "tokenizer.json:   0%|          | 0.00/9.09M [00:00<?, ?B/s]"
      ]
     },
     "metadata": {},
     "output_type": "display_data"
    },
    {
     "data": {
      "application/vnd.jupyter.widget-view+json": {
       "model_id": "bd88e165c1fa4791845fbbee7f2d07ea",
       "version_major": 2,
       "version_minor": 0
      },
      "text/plain": [
       "special_tokens_map.json:   0%|          | 0.00/73.0 [00:00<?, ?B/s]"
      ]
     },
     "metadata": {},
     "output_type": "display_data"
    },
    {
     "data": {
      "application/vnd.jupyter.widget-view+json": {
       "model_id": "88992eff641240cf8198eb3dbb025081",
       "version_major": 2,
       "version_minor": 0
      },
      "text/plain": [
       "config.json:   0%|          | 0.00/654 [00:00<?, ?B/s]"
      ]
     },
     "metadata": {},
     "output_type": "display_data"
    },
    {
     "data": {
      "application/vnd.jupyter.widget-view+json": {
       "model_id": "ea8d0a0f42734adca5d012897528d059",
       "version_major": 2,
       "version_minor": 0
      },
      "text/plain": [
       "model.safetensors.index.json:   0%|          | 0.00/23.9k [00:00<?, ?B/s]"
      ]
     },
     "metadata": {},
     "output_type": "display_data"
    },
    {
     "data": {
      "application/vnd.jupyter.widget-view+json": {
       "model_id": "7f84c1e2ed834ee9abd362b0fea7cd05",
       "version_major": 2,
       "version_minor": 0
      },
      "text/plain": [
       "Downloading shards:   0%|          | 0/4 [00:00<?, ?it/s]"
      ]
     },
     "metadata": {},
     "output_type": "display_data"
    },
    {
     "data": {
      "application/vnd.jupyter.widget-view+json": {
       "model_id": "00ebc46c128b495bb2468397217b581d",
       "version_major": 2,
       "version_minor": 0
      },
      "text/plain": [
       "model-00001-of-00004.safetensors:   0%|          | 0.00/4.98G [00:00<?, ?B/s]"
      ]
     },
     "metadata": {},
     "output_type": "display_data"
    },
    {
     "data": {
      "application/vnd.jupyter.widget-view+json": {
       "model_id": "a3422acdfa99437a8046b6fc16767d2d",
       "version_major": 2,
       "version_minor": 0
      },
      "text/plain": [
       "model-00002-of-00004.safetensors:   0%|          | 0.00/5.00G [00:00<?, ?B/s]"
      ]
     },
     "metadata": {},
     "output_type": "display_data"
    },
    {
     "data": {
      "application/vnd.jupyter.widget-view+json": {
       "model_id": "4f3ebbafd3384650aa41ea0eb75ae827",
       "version_major": 2,
       "version_minor": 0
      },
      "text/plain": [
       "model-00003-of-00004.safetensors:   0%|          | 0.00/4.92G [00:00<?, ?B/s]"
      ]
     },
     "metadata": {},
     "output_type": "display_data"
    },
    {
     "data": {
      "application/vnd.jupyter.widget-view+json": {
       "model_id": "1a314d42115846bfab12bc26ea95c0de",
       "version_major": 2,
       "version_minor": 0
      },
      "text/plain": [
       "model-00004-of-00004.safetensors:   0%|          | 0.00/1.17G [00:00<?, ?B/s]"
      ]
     },
     "metadata": {},
     "output_type": "display_data"
    },
    {
     "data": {
      "application/vnd.jupyter.widget-view+json": {
       "model_id": "c46b66fa5bbb4e969ced0a1f3b819507",
       "version_major": 2,
       "version_minor": 0
      },
      "text/plain": [
       "Loading checkpoint shards:   0%|          | 0/4 [00:00<?, ?it/s]"
      ]
     },
     "metadata": {},
     "output_type": "display_data"
    },
    {
     "data": {
      "application/vnd.jupyter.widget-view+json": {
       "model_id": "c4b151a3d9684adebdab3a0e5e248342",
       "version_major": 2,
       "version_minor": 0
      },
      "text/plain": [
       "generation_config.json:   0%|          | 0.00/187 [00:00<?, ?B/s]"
      ]
     },
     "metadata": {},
     "output_type": "display_data"
    }
   ],
   "source": [
    "from transformers import AutoTokenizer, AutoModelForCausalLM\n",
    "import torch\n",
    "\n",
    "model_id = \"meta-llama/Meta-Llama-3-8B-Instruct\"\n",
    "device = torch.device(\"cuda\" if torch.cuda.is_available() else \"cpu\")\n",
    "print(device)\n",
    "tokenizer = AutoTokenizer.from_pretrained(model_id)\n",
    "model = AutoModelForCausalLM.from_pretrained(\n",
    "    model_id,\n",
    "    torch_dtype=torch.bfloat16,\n",
    "    device_map=\"auto\",\n",
    ")"
   ]
  },
  {
   "cell_type": "code",
   "execution_count": 3,
   "metadata": {
    "execution": {
     "iopub.execute_input": "2024-11-12T14:34:44.535230Z",
     "iopub.status.busy": "2024-11-12T14:34:44.534267Z",
     "iopub.status.idle": "2024-11-12T14:35:10.397893Z",
     "shell.execute_reply": "2024-11-12T14:35:10.396955Z",
     "shell.execute_reply.started": "2024-11-12T14:34:44.535180Z"
    },
    "trusted": true
   },
   "outputs": [
    {
     "name": "stderr",
     "output_type": "stream",
     "text": [
      "Starting from v4.46, the `logits` model output will have the same type as the model (except at train time, where it will always be FP32)\n"
     ]
    },
    {
     "data": {
      "text/plain": [
       "'Give an example of a spam text message you have received.\\nGive an example of a spam text message you have received.\\nI received a spam text message that read: \"WIN A FREE IPAD! Text \\'YES\\' to 555-555'"
      ]
     },
     "execution_count": 3,
     "metadata": {},
     "output_type": "execute_result"
    }
   ],
   "source": [
    "def generate_text_from_prompt(prompt):\n",
    "    inputs = tokenizer(prompt, return_tensors=\"pt\").to(device)\n",
    "    outputs = model.generate(**inputs, max_length=50, num_return_sequences=1, do_sample=True, top_k=0, pad_token_id=tokenizer.eos_token_id)\n",
    "    generated_text = tokenizer.decode(outputs[0], skip_special_tokens=True)\n",
    "    return generated_text\n",
    "# device = \"cuda\" if torch.cuda.is_available() else \"cpu\"\n",
    "# model = model.to(device)\n",
    "# model.generation_config.pad_token_id = tokenizer.pad_token_id\n",
    "generate_text_from_prompt(\"Give an example of a spam text\")"
   ]
  },
  {
   "cell_type": "code",
   "execution_count": 8,
   "metadata": {
    "execution": {
     "iopub.execute_input": "2024-11-12T14:40:50.376564Z",
     "iopub.status.busy": "2024-11-12T14:40:50.376136Z",
     "iopub.status.idle": "2024-11-12T14:40:50.412614Z",
     "shell.execute_reply": "2024-11-12T14:40:50.411679Z",
     "shell.execute_reply.started": "2024-11-12T14:40:50.376524Z"
    },
    "trusted": true
   },
   "outputs": [
    {
     "data": {
      "text/plain": [
       "[{'name': 'news',\n",
       "  'rows_per_category': 68,\n",
       "  'query': 'Fake political news title',\n",
       "  'non_query': 'Recently published political news title',\n",
       "  'print_count': 10},\n",
       " {'name': 'spam',\n",
       "  'rows_per_category': 602,\n",
       "  'query': 'Text message with advertisement or offer',\n",
       "  'non_query': 'Text message from a friend or family says',\n",
       "  'print_count': 100},\n",
       " {'name': 'sentiment',\n",
       "  'rows_per_category': 2499,\n",
       "  'query': 'Tweet as a happy person',\n",
       "  'non_query': 'Tweet as a sad person',\n",
       "  'print_count': 250}]"
      ]
     },
     "execution_count": 8,
     "metadata": {},
     "output_type": "execute_result"
    }
   ],
   "source": [
    "\n",
    "def zs_data_file_path(task):\n",
    "    return \"/kaggle/working/\"+task+\"-zs-data-llama.csv\"\n",
    "\n",
    "def data_file_path(task):\n",
    "    return \"/kaggle/input/mini-llm-test/\"+task+\"-data-mini.csv\"\n",
    "\n",
    "def get_mid_file_path(task, mode = \"\"):\n",
    "    return \"/kaggle/working/mid-\" + task + \"-\" + mode + \"data.csv\"\n",
    "\n",
    "def count_req_rows(type):\n",
    "    file = data_file_path(type)# '..\\\\data\\\\orig\\\\processed\\\\train\\\\news-data-mini.csv'\n",
    "#     if(type=='sentiment'):\n",
    "#         file = '..\\\\data\\\\orig\\\\processed\\\\train\\\\sentiment-data-mini.csv'\n",
    "#     elif(type=='spam'):\n",
    "#         file = '..\\\\data\\\\orig\\\\processed\\\\train\\\\spam-data-mini.csv'\n",
    "    df = pd.read_csv(file)\n",
    "    return int(df.shape[0]/2)\n",
    "\n",
    "prompts = {\n",
    "    'spam': 'Text message with advertisement or offer',\n",
    "    'non_spam':'Text message from a friend or family says',\n",
    "    'real_news':'Recently published political news title',\n",
    "    'fake_news':'Fake political news title',\n",
    "    'happy_tweet':'Tweet as a happy person',\n",
    "    'sad_tweet': 'Tweet as a sad person'\n",
    "}\n",
    "\n",
    "zsl_tasks = [\n",
    "    {\n",
    "        'name':'news',\n",
    "        'rows_per_category': count_req_rows('news'),\n",
    "        'query': prompts['fake_news'],\n",
    "        'non_query': prompts['real_news'],\n",
    "        'print_count':10\n",
    "    },\n",
    "    {\n",
    "        'name':'spam',\n",
    "        'rows_per_category': count_req_rows('spam'),\n",
    "        'query': prompts['spam'],\n",
    "        'non_query': prompts['non_spam'],\n",
    "        'print_count':100\n",
    "    },    \n",
    "    {\n",
    "        'name':'sentiment',\n",
    "        'rows_per_category': count_req_rows('sentiment'),\n",
    "        'query': prompts['happy_tweet'],\n",
    "        'non_query': prompts['sad_tweet'],\n",
    "        'print_count':250\n",
    "    }\n",
    "]\n",
    "\n",
    "def generate_text_from_prompt(prompt):\n",
    "    inputs = tokenizer(prompt, return_tensors=\"pt\").to(device)\n",
    "    outputs = model.generate(**inputs, max_length=50, num_return_sequences=1, do_sample=True, top_k=0, pad_token_id=tokenizer.eos_token_id)\n",
    "    generated_text = tokenizer.decode(outputs[0], skip_special_tokens=True)\n",
    "    return generated_text\n",
    "\n",
    "\n",
    "zsl_tasks\n"
   ]
  },
  {
   "cell_type": "code",
   "execution_count": 9,
   "metadata": {
    "execution": {
     "iopub.execute_input": "2024-11-12T14:40:54.980414Z",
     "iopub.status.busy": "2024-11-12T14:40:54.980004Z",
     "iopub.status.idle": "2024-11-12T20:18:40.998868Z",
     "shell.execute_reply": "2024-11-12T20:18:40.997701Z",
     "shell.execute_reply.started": "2024-11-12T14:40:54.980374Z"
    },
    "trusted": true
   },
   "outputs": [
    {
     "name": "stdout",
     "output_type": "stream",
     "text": [
      "1. Starting task:  spam\n",
      "NQ-Progress: 0 100 200 300 400 500 600 \n",
      "2. Generated non query df\n",
      "Q-Progress: 0 100 200 300 400 500 600 \n",
      "3. Generated query df\n",
      "4. Saving df\n",
      "5. Ending task:  spam\n",
      "\n",
      "1. Starting task:  sentiment\n",
      "NQ-Progress: 0 250 500 750 1000 1250 1500 1750 2000 2250 \n",
      "2. Generated non query df\n",
      "Q-Progress: 0 250 500 750 1000 1250 1500 1750 2000 2250 \n",
      "3. Generated query df\n",
      "4. Saving df\n",
      "5. Ending task:  sentiment\n",
      "\n"
     ]
    }
   ],
   "source": [
    "df_main = pd.DataFrame()\n",
    "for task in zsl_tasks:\n",
    "    if task['name'] in ['news']:\n",
    "        continue\n",
    "    df_1 = pd.DataFrame(columns=['text'])\n",
    "    df_2 = pd.DataFrame(columns=['text'])\n",
    "\n",
    "    print(\"1. Starting task: \", task['name'])\n",
    "    print(\"NQ-Progress:\", end=' ')\n",
    "    for _ in range(task['rows_per_category']):\n",
    "        gen_text = generate_text_from_prompt(prompt = task['non_query'])\n",
    "        df_2.loc[len(df_2)] = gen_text\n",
    "        if _%task['print_count'] == 0:\n",
    "            print(_, end=' ')\n",
    "            df_2.to_csv(get_mid_file_path(task['name'], \"n\"), index=False)\n",
    "    \n",
    "\n",
    "    print(\"\\n2. Generated non query df\")\n",
    "    print(\"Q-Progress:\", end=' ')\n",
    "    for _ in range(task['rows_per_category']):\n",
    "        gen_text = generate_text_from_prompt(prompt = task['query'])\n",
    "        df_1.loc[len(df_1)] = gen_text\n",
    "        if _%task['print_count'] == 0:\n",
    "            print(_, end=' ')\n",
    "            df_1.to_csv(get_mid_file_path(task['name']), index=False)\n",
    "    \n",
    "    print(\"\\n3. Generated query df\")\n",
    "\n",
    "    df_1['y']=1\n",
    "    df_2['y']=0\n",
    "\n",
    "    print(\"4. Saving df\")\n",
    "\n",
    "    df = pd.concat([df_1, df_2], ignore_index=True)\n",
    "    df = df.sample(frac=1).reset_index(drop=True)\n",
    "    df_main = df\n",
    "    df.to_csv(zs_data_file_path(task['name']), index=False)\n",
    "\n",
    "    print(\"5. Ending task: \", task['name'])\n",
    "    print()"
   ]
  }
 ],
 "metadata": {
  "kaggle": {
   "accelerator": "nvidiaTeslaT4",
   "dataSources": [
    {
     "datasetId": 6068008,
     "sourceId": 9882298,
     "sourceType": "datasetVersion"
    }
   ],
   "dockerImageVersionId": 30787,
   "isGpuEnabled": true,
   "isInternetEnabled": true,
   "language": "python",
   "sourceType": "notebook"
  },
  "kernelspec": {
   "display_name": "Python 3",
   "language": "python",
   "name": "python3"
  },
  "language_info": {
   "codemirror_mode": {
    "name": "ipython",
    "version": 3
   },
   "file_extension": ".py",
   "mimetype": "text/x-python",
   "name": "python",
   "nbconvert_exporter": "python",
   "pygments_lexer": "ipython3",
   "version": "3.10.14"
  }
 },
 "nbformat": 4,
 "nbformat_minor": 4
}
